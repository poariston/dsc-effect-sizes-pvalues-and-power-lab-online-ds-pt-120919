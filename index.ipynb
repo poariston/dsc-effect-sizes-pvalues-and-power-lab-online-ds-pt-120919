{
 "cells": [
  {
   "cell_type": "markdown",
   "metadata": {},
   "source": [
    "# Effect Size, P-Values and Power - Lab\n",
    "\n",
    "## Introduction \n",
    "\n",
    "In this lab, you'll run simulations to continue to investigate the relationship between effect size, p-values, power, and sample size!\n",
    "\n",
    "## Objectives\n",
    "You will be able to:\n",
    "* Run a simulation that creates a visualization to demonstrate the interaction between power, sample size, and effect size"
   ]
  },
  {
   "cell_type": "markdown",
   "metadata": {},
   "source": [
    "## Philosophical review\n",
    "\n",
    "Remember that the underlying question behind all hypothesis tests is:\n",
    "\n",
    ">\"What is the probability I would see this effect due to random fluctuations if there was actually no effect?\" \n",
    "\n",
    "This is exactly what a p-value represents: the chance that the observed data would satisfy the null hypothesis. As such, if the p-value is sufficiently low, you can declare the results statistically significant and reject the null hypothesis. Recall that this threshold is defined as $\\alpha$, and is also the rate of type I errors. In this lab, you'll investigate the robustness of p-values and their relation with effect-size and sample-size. "
   ]
  },
  {
   "cell_type": "markdown",
   "metadata": {},
   "source": [
    "## Import starter functions\n",
    "\n",
    "To start, import the functions stored in the `flatiron_stats.py` file. It contains the stats functions that you previously coded in the last lab: `welch_t(a,b)`, `welch_df(a, b)`, and `p_value(a, b, two_sided=False)`. You'll then use these functions below to further investigate the relationship between p-values and sample size."
   ]
  },
  {
   "cell_type": "code",
   "execution_count": 2,
   "metadata": {},
   "outputs": [],
   "source": [
    "# Your code here; import the contents from flatiron_stats.py\n",
    "# You may also wish to open up flatiron_stats.py in a text editor to preview its contents \n",
    "from flatiron_stats import *\n",
    "\n",
    "# def welch_t(a, b):\n",
    "#         \"\"\" Calculate Welch's t statistic for two samples. \"\"\"\n",
    "# def welch_df(a, b):\n",
    "#     \"\"\" Calculate the effective degrees of freedom for two samples. This function returns the degrees of freedom \"\"\"\n",
    "# def p_value_welch_ttest(a, b, two_sided=False):\n",
    "#     \"\"\"Calculates the p-value for Welch's t-test given two samples.\n"
   ]
  },
  {
   "cell_type": "markdown",
   "metadata": {},
   "source": [
    "## Generate random samples\n",
    "\n",
    "Before you start running simulations, it will be useful to have a helper function that will generate random samples. Write such a function below which generates 2 random samples from 2 normal distributions. The function should take 6 input parameters:\n",
    "\n",
    "* m1 - The underlying population mean for sample 1\n",
    "* s1 - The underlying population standard deviation for sample 1\n",
    "* n1 - The sample size for sample 1\n",
    "\n",
    "* m2 - The underlying population mean for sample 2\n",
    "* s2 - The underlying population standard deviation for sample 2\n",
    "* n2 - The sample size for sample 2"
   ]
  },
  {
   "cell_type": "code",
   "execution_count": 4,
   "metadata": {},
   "outputs": [],
   "source": [
    "import numpy as np\n",
    "def generate_samples(m1, s1, n1, m2, s2, n2):\n",
    "    # Your code here; have the function create two random samples using the input parameters\n",
    "    sample1=np.random.normal(loc=m1,scale=s1,size=n1)\n",
    "    sample2=np.random.normal(loc=m2,scale=s2,size=n2)\n",
    "\n",
    "    return sample1, sample2"
   ]
  },
  {
   "cell_type": "code",
   "execution_count": 6,
   "metadata": {},
   "outputs": [
    {
     "data": {
      "text/plain": [
       "(array([ 2.99050749, -0.20524793,  1.474466  ,  1.25862401,  2.12967268]),\n",
       " array([ 0.5724705 ,  2.16379963,  2.08718619,  3.39844293,  0.11400186,\n",
       "        -0.44710465, -3.20690962,  4.31735015,  2.20792143,  2.37668488]))"
      ]
     },
     "execution_count": 6,
     "metadata": {},
     "output_type": "execute_result"
    }
   ],
   "source": [
    "generate_samples(1, 1, 5, 2, 2, 10)\n"
   ]
  },
  {
   "cell_type": "markdown",
   "metadata": {},
   "source": [
    "## Run a simulation\n",
    "\n",
    "For your first simulation, you're going to investigate how the p-value of an experiment relates to sample size when both samples are from identical underlying distributions. To do this, use your `generate_samples()` function along with the `p_value_welch_ttest()` function defined in the `flatiron_stats` file. Use sample sizes from 5 to 750. For each sample size, simulate 100 experiments. For each of these experiments, generate 2 samples of the given sample size. Each sample should have a standard deviation of 1. The first sample should have a mean of 5 and the second should have a mean of 5 plus the effect size, you hope to detect. Calculate the corresponding p-values for a Welch's t-test for each of these sample pairs. Finally, use the p-values to calculate the power of the test. Remember that for all of the simulations where the effect size does not equal zero, the null hypothesis is not true. Store the overall power from the 100 simulations along with the corresponding sample size and effect size. Use varying effect sizes such as [0, 0.01, 0.1, 0.2, 0.5, 1, 2]. You'll then plot power vs sample size for various effect sizes."
   ]
  },
  {
   "cell_type": "markdown",
   "metadata": {},
   "source": [
    "my notes:\n",
    "## \"Remember that for all of the simulations where the effect size does not equal zero, the null hypothesis is not true.\"\n",
    "????  \n",
    "effect_size > 0  => there is actually a difference between the 2 samples as they are geenrated from 2 normal distributions with mean values that are different: 5 and 5+ effect_size. The Null hypothesis is that there is no significant difference between the samples. So effect_size > 0 => The Null hypothesis is not true.\n"
   ]
  },
  {
   "cell_type": "code",
   "execution_count": null,
   "metadata": {},
   "outputs": [],
   "source": [
    "import pandas as pd\n",
    "import matplotlib.pyplot as plt\n",
    "import seaborn as sns\n",
    "%matplotlib inline\n",
    "sns.set_style('darkgrid')"
   ]
  },
  {
   "cell_type": "code",
   "execution_count": 53,
   "metadata": {},
   "outputs": [],
   "source": [
    "\n"
   ]
  },
  {
   "cell_type": "code",
   "execution_count": null,
   "metadata": {},
   "outputs": [],
   "source": []
  },
  {
   "cell_type": "code",
   "execution_count": 51,
   "metadata": {},
   "outputs": [],
   "source": [
    "# my extra tests\n",
    "effct_smplsze_pwr_dico={}\n",
    "for effect_size in [0, 0.01]:\n",
    "    power_dico={}\n",
    "    for sample_size in range(5,15,5):\n",
    "        p_val_listo=[]\n",
    "        for i in range(10):\n",
    "            a,b=generate_samples(5, 1, sample_size, 5+effect_size, 1, sample_size)\n",
    "            p_val=p_value_welch_ttest(a, b, two_sided=False)\n",
    "            p_val_listo.append(p_val)\n",
    "# power= probability of True + result, ie. p_value <5%\n",
    "        power_dico[sample_size] = sum([elem < .05 for elem in p_val_listo])/len(p_val_listo)\n",
    "    effct_smplsze_pwr_dico[effect_size] = power_dico"
   ]
  },
  {
   "cell_type": "code",
   "execution_count": 52,
   "metadata": {},
   "outputs": [
    {
     "data": {
      "text/plain": [
       "({5: 0.2, 10: 0.1}, {0: {5: 0.1, 10: 0.2}, 0.01: {5: 0.2, 10: 0.1}})"
      ]
     },
     "execution_count": 52,
     "metadata": {},
     "output_type": "execute_result"
    }
   ],
   "source": [
    "power_dico,effct_smplsze_pwr_dico"
   ]
  },
  {
   "cell_type": "code",
   "execution_count": 48,
   "metadata": {},
   "outputs": [],
   "source": [
    "# my extra tests\n",
    "p_vs_e_n = {}\n",
    "alpha = 0.05\n",
    "for effect_size in [0, 0.01]:\n",
    "    n_vs_p = {}\n",
    "    for n in range(5,15,5):\n",
    "        p_vals = []\n",
    "        for i in range(100):\n",
    "            sample1, sample2 = generate_samples(m1=5, s1=1, n1=n, m2=5+effect_size, s2=1, n2=n)\n",
    "            p = p_value_welch_ttest(sample1, sample2)\n",
    "            p_vals.append(p)\n",
    "        n_vs_p[n] = np.sum([1 for p in p_vals if p<alpha])/len(p_vals)\n",
    "    p_vs_e_n[effect_size] = n_vs_p"
   ]
  },
  {
   "cell_type": "code",
   "execution_count": 50,
   "metadata": {},
   "outputs": [
    {
     "data": {
      "text/plain": [
       "({5: 0.08, 10: 0.16}, {0: {5: 0.04, 10: 0.13}, 0.01: {5: 0.08, 10: 0.16}})"
      ]
     },
     "execution_count": 50,
     "metadata": {},
     "output_type": "execute_result"
    }
   ],
   "source": [
    "n_vs_p,p_vs_e_n"
   ]
  },
  {
   "cell_type": "code",
   "execution_count": 41,
   "metadata": {},
   "outputs": [],
   "source": [
    "# my extra tests\n",
    "\n",
    "# effct_smplsze_pwr_dico={}\n",
    "# for effect_size in [0, 0.01]:\n",
    "effect_size=0\n",
    "power_dico={}\n",
    "for sample_size in range(5,15,5):\n",
    "    p_val_listo=[]\n",
    "    for i in range(10):\n",
    "        a,b=generate_samples(5, 1, sample_size, 5+effect_size, 1, sample_size)\n",
    "        p_val=p_value_welch_ttest(a, b, two_sided=False)\n",
    "        p_val_listo.append(p_val)\n",
    "# power= probability of True + result, ie. p_value <5%\n",
    "    power_dico[sample_size] = sum([elem < .05 for elem in p_val_listo])/len(p_val_listo)\n"
   ]
  },
  {
   "cell_type": "code",
   "execution_count": 37,
   "metadata": {},
   "outputs": [
    {
     "data": {
      "text/plain": [
       "{5: 0.4, 10: 0.0}"
      ]
     },
     "execution_count": 37,
     "metadata": {},
     "output_type": "execute_result"
    }
   ],
   "source": [
    "power_dico"
   ]
  },
  {
   "cell_type": "code",
   "execution_count": 43,
   "metadata": {},
   "outputs": [],
   "source": [
    "# my extra tests\n",
    "\n",
    "# effct_smplsze_pwr_dico={}\n",
    "# for effect_size in [0, 0.01]:\n",
    "effect_size=0.1\n",
    "power_dico={}\n",
    "for sample_size in range(5,15,5):\n",
    "    p_val_listo=[]\n",
    "    for i in range(10):\n",
    "        a,b=generate_samples(5, 1, sample_size, 5+effect_size, 1, sample_size)\n",
    "        p_val=p_value_welch_ttest(a, b, two_sided=False)\n",
    "        p_val_listo.append(p_val)\n",
    "# power= probability of True + result, ie. p_value <5%\n",
    "    power_dico[sample_size] = sum([elem < .05 for elem in p_val_listo])/len(p_val_listo)\n"
   ]
  },
  {
   "cell_type": "code",
   "execution_count": 44,
   "metadata": {},
   "outputs": [
    {
     "data": {
      "text/plain": [
       "{5: 0.0, 10: 0.1}"
      ]
     },
     "execution_count": 44,
     "metadata": {},
     "output_type": "execute_result"
    }
   ],
   "source": [
    "power_dico"
   ]
  },
  {
   "cell_type": "code",
   "execution_count": 54,
   "metadata": {},
   "outputs": [],
   "source": [
    "# Your code here\n",
    "\n",
    "# Pseudo code outline\n",
    "# for effect size:\n",
    "#     for sample_size:\n",
    "#         perform 100 simulations\n",
    "#         calculate power\n",
    "#         store effect_size, sample_size, power for simulations\n",
    "\n",
    "effct_smplsze_pwr_dico={}\n",
    "for effect_size in [0, 0.01, 0.1, 0.2, 0.5, 1, 2]:\n",
    "    power_dico={}\n",
    "    for sample_size in range(5,750,5):\n",
    "        p_val_listo=[]\n",
    "        for i in range(100):\n",
    "            a,b=generate_samples(5, 1, sample_size, 5+effect_size, 1, sample_size)\n",
    "            p_val=p_value_welch_ttest(a, b, two_sided=False)\n",
    "            p_val_listo.append(p_val)\n",
    "# power= probability of True + result, ie. p_value <5%\n",
    "        power_dico[sample_size] = sum([elem < .05 for elem in p_val_listo])/len(p_val_listo)\n",
    "    effct_smplsze_pwr_dico[effect_size] = power_dico"
   ]
  },
  {
   "cell_type": "code",
   "execution_count": 55,
   "metadata": {},
   "outputs": [
    {
     "data": {
      "text/plain": [
       "{5: 0.11,\n",
       " 10: 0.13,\n",
       " 15: 0.08,\n",
       " 20: 0.09,\n",
       " 25: 0.08,\n",
       " 30: 0.08,\n",
       " 35: 0.12,\n",
       " 40: 0.05,\n",
       " 45: 0.06,\n",
       " 50: 0.1,\n",
       " 55: 0.11,\n",
       " 60: 0.17,\n",
       " 65: 0.09,\n",
       " 70: 0.07,\n",
       " 75: 0.12,\n",
       " 80: 0.08,\n",
       " 85: 0.07,\n",
       " 90: 0.12,\n",
       " 95: 0.11,\n",
       " 100: 0.1,\n",
       " 105: 0.07,\n",
       " 110: 0.06,\n",
       " 115: 0.12,\n",
       " 120: 0.11,\n",
       " 125: 0.09,\n",
       " 130: 0.11,\n",
       " 135: 0.13,\n",
       " 140: 0.14,\n",
       " 145: 0.07,\n",
       " 150: 0.11,\n",
       " 155: 0.09,\n",
       " 160: 0.18,\n",
       " 165: 0.08,\n",
       " 170: 0.12,\n",
       " 175: 0.12,\n",
       " 180: 0.07,\n",
       " 185: 0.14,\n",
       " 190: 0.09,\n",
       " 195: 0.03,\n",
       " 200: 0.11,\n",
       " 205: 0.07,\n",
       " 210: 0.13,\n",
       " 215: 0.16,\n",
       " 220: 0.11,\n",
       " 225: 0.09,\n",
       " 230: 0.06,\n",
       " 235: 0.1,\n",
       " 240: 0.06,\n",
       " 245: 0.14,\n",
       " 250: 0.07,\n",
       " 255: 0.12,\n",
       " 260: 0.09,\n",
       " 265: 0.09,\n",
       " 270: 0.13,\n",
       " 275: 0.12,\n",
       " 280: 0.11,\n",
       " 285: 0.11,\n",
       " 290: 0.06,\n",
       " 295: 0.14,\n",
       " 300: 0.09,\n",
       " 305: 0.1,\n",
       " 310: 0.1,\n",
       " 315: 0.07,\n",
       " 320: 0.08,\n",
       " 325: 0.11,\n",
       " 330: 0.09,\n",
       " 335: 0.13,\n",
       " 340: 0.07,\n",
       " 345: 0.05,\n",
       " 350: 0.14,\n",
       " 355: 0.11,\n",
       " 360: 0.09,\n",
       " 365: 0.17,\n",
       " 370: 0.07,\n",
       " 375: 0.1,\n",
       " 380: 0.14,\n",
       " 385: 0.11,\n",
       " 390: 0.1,\n",
       " 395: 0.15,\n",
       " 400: 0.12,\n",
       " 405: 0.06,\n",
       " 410: 0.12,\n",
       " 415: 0.12,\n",
       " 420: 0.1,\n",
       " 425: 0.1,\n",
       " 430: 0.09,\n",
       " 435: 0.11,\n",
       " 440: 0.14,\n",
       " 445: 0.08,\n",
       " 450: 0.08,\n",
       " 455: 0.1,\n",
       " 460: 0.13,\n",
       " 465: 0.15,\n",
       " 470: 0.08,\n",
       " 475: 0.1,\n",
       " 480: 0.12,\n",
       " 485: 0.16,\n",
       " 490: 0.07,\n",
       " 495: 0.12,\n",
       " 500: 0.14,\n",
       " 505: 0.03,\n",
       " 510: 0.12,\n",
       " 515: 0.14,\n",
       " 520: 0.07,\n",
       " 525: 0.14,\n",
       " 530: 0.08,\n",
       " 535: 0.09,\n",
       " 540: 0.15,\n",
       " 545: 0.1,\n",
       " 550: 0.18,\n",
       " 555: 0.06,\n",
       " 560: 0.11,\n",
       " 565: 0.08,\n",
       " 570: 0.11,\n",
       " 575: 0.09,\n",
       " 580: 0.13,\n",
       " 585: 0.06,\n",
       " 590: 0.12,\n",
       " 595: 0.03,\n",
       " 600: 0.11,\n",
       " 605: 0.11,\n",
       " 610: 0.11,\n",
       " 615: 0.1,\n",
       " 620: 0.09,\n",
       " 625: 0.09,\n",
       " 630: 0.11,\n",
       " 635: 0.07,\n",
       " 640: 0.15,\n",
       " 645: 0.12,\n",
       " 650: 0.13,\n",
       " 655: 0.08,\n",
       " 660: 0.05,\n",
       " 665: 0.15,\n",
       " 670: 0.15,\n",
       " 675: 0.13,\n",
       " 680: 0.08,\n",
       " 685: 0.08,\n",
       " 690: 0.13,\n",
       " 695: 0.08,\n",
       " 700: 0.09,\n",
       " 705: 0.09,\n",
       " 710: 0.08,\n",
       " 715: 0.05,\n",
       " 720: 0.07,\n",
       " 725: 0.08,\n",
       " 730: 0.15,\n",
       " 735: 0.1,\n",
       " 740: 0.16,\n",
       " 745: 0.08}"
      ]
     },
     "execution_count": 55,
     "metadata": {},
     "output_type": "execute_result"
    }
   ],
   "source": [
    "effct_smplsze_pwr_dico[0]"
   ]
  },
  {
   "cell_type": "markdown",
   "metadata": {},
   "source": [
    "Now that you've simulated the data, go ahead and graph it! Label the x-axis sample size, the y-axis power, and be sure to include a legend for the various effect sizes."
   ]
  },
  {
   "cell_type": "code",
   "execution_count": 57,
   "metadata": {},
   "outputs": [
    {
     "data": {
      "text/html": [
       "<div>\n",
       "<style scoped>\n",
       "    .dataframe tbody tr th:only-of-type {\n",
       "        vertical-align: middle;\n",
       "    }\n",
       "\n",
       "    .dataframe tbody tr th {\n",
       "        vertical-align: top;\n",
       "    }\n",
       "\n",
       "    .dataframe thead th {\n",
       "        text-align: right;\n",
       "    }\n",
       "</style>\n",
       "<table border=\"1\" class=\"dataframe\">\n",
       "  <thead>\n",
       "    <tr style=\"text-align: right;\">\n",
       "      <th></th>\n",
       "      <th>0.00</th>\n",
       "      <th>0.01</th>\n",
       "      <th>0.10</th>\n",
       "      <th>0.20</th>\n",
       "      <th>0.50</th>\n",
       "      <th>1.00</th>\n",
       "      <th>2.00</th>\n",
       "    </tr>\n",
       "  </thead>\n",
       "  <tbody>\n",
       "    <tr>\n",
       "      <th>5</th>\n",
       "      <td>0.11</td>\n",
       "      <td>0.13</td>\n",
       "      <td>0.11</td>\n",
       "      <td>0.14</td>\n",
       "      <td>0.28</td>\n",
       "      <td>0.38</td>\n",
       "      <td>0.86</td>\n",
       "    </tr>\n",
       "    <tr>\n",
       "      <th>10</th>\n",
       "      <td>0.13</td>\n",
       "      <td>0.13</td>\n",
       "      <td>0.16</td>\n",
       "      <td>0.16</td>\n",
       "      <td>0.29</td>\n",
       "      <td>0.68</td>\n",
       "      <td>1.00</td>\n",
       "    </tr>\n",
       "    <tr>\n",
       "      <th>15</th>\n",
       "      <td>0.08</td>\n",
       "      <td>0.08</td>\n",
       "      <td>0.08</td>\n",
       "      <td>0.13</td>\n",
       "      <td>0.35</td>\n",
       "      <td>0.83</td>\n",
       "      <td>1.00</td>\n",
       "    </tr>\n",
       "    <tr>\n",
       "      <th>20</th>\n",
       "      <td>0.09</td>\n",
       "      <td>0.08</td>\n",
       "      <td>0.14</td>\n",
       "      <td>0.14</td>\n",
       "      <td>0.43</td>\n",
       "      <td>0.93</td>\n",
       "      <td>1.00</td>\n",
       "    </tr>\n",
       "    <tr>\n",
       "      <th>25</th>\n",
       "      <td>0.08</td>\n",
       "      <td>0.12</td>\n",
       "      <td>0.18</td>\n",
       "      <td>0.23</td>\n",
       "      <td>0.50</td>\n",
       "      <td>0.97</td>\n",
       "      <td>1.00</td>\n",
       "    </tr>\n",
       "    <tr>\n",
       "      <th>...</th>\n",
       "      <td>...</td>\n",
       "      <td>...</td>\n",
       "      <td>...</td>\n",
       "      <td>...</td>\n",
       "      <td>...</td>\n",
       "      <td>...</td>\n",
       "      <td>...</td>\n",
       "    </tr>\n",
       "    <tr>\n",
       "      <th>725</th>\n",
       "      <td>0.08</td>\n",
       "      <td>0.09</td>\n",
       "      <td>0.55</td>\n",
       "      <td>0.99</td>\n",
       "      <td>1.00</td>\n",
       "      <td>1.00</td>\n",
       "      <td>1.00</td>\n",
       "    </tr>\n",
       "    <tr>\n",
       "      <th>730</th>\n",
       "      <td>0.15</td>\n",
       "      <td>0.11</td>\n",
       "      <td>0.63</td>\n",
       "      <td>0.99</td>\n",
       "      <td>1.00</td>\n",
       "      <td>1.00</td>\n",
       "      <td>1.00</td>\n",
       "    </tr>\n",
       "    <tr>\n",
       "      <th>735</th>\n",
       "      <td>0.10</td>\n",
       "      <td>0.11</td>\n",
       "      <td>0.62</td>\n",
       "      <td>0.97</td>\n",
       "      <td>1.00</td>\n",
       "      <td>1.00</td>\n",
       "      <td>1.00</td>\n",
       "    </tr>\n",
       "    <tr>\n",
       "      <th>740</th>\n",
       "      <td>0.16</td>\n",
       "      <td>0.11</td>\n",
       "      <td>0.62</td>\n",
       "      <td>1.00</td>\n",
       "      <td>1.00</td>\n",
       "      <td>1.00</td>\n",
       "      <td>1.00</td>\n",
       "    </tr>\n",
       "    <tr>\n",
       "      <th>745</th>\n",
       "      <td>0.08</td>\n",
       "      <td>0.09</td>\n",
       "      <td>0.65</td>\n",
       "      <td>0.99</td>\n",
       "      <td>1.00</td>\n",
       "      <td>1.00</td>\n",
       "      <td>1.00</td>\n",
       "    </tr>\n",
       "  </tbody>\n",
       "</table>\n",
       "<p>149 rows × 7 columns</p>\n",
       "</div>"
      ],
      "text/plain": [
       "     0.00  0.01  0.10  0.20  0.50  1.00  2.00\n",
       "5    0.11  0.13  0.11  0.14  0.28  0.38  0.86\n",
       "10   0.13  0.13  0.16  0.16  0.29  0.68  1.00\n",
       "15   0.08  0.08  0.08  0.13  0.35  0.83  1.00\n",
       "20   0.09  0.08  0.14  0.14  0.43  0.93  1.00\n",
       "25   0.08  0.12  0.18  0.23  0.50  0.97  1.00\n",
       "..    ...   ...   ...   ...   ...   ...   ...\n",
       "725  0.08  0.09  0.55  0.99  1.00  1.00  1.00\n",
       "730  0.15  0.11  0.63  0.99  1.00  1.00  1.00\n",
       "735  0.10  0.11  0.62  0.97  1.00  1.00  1.00\n",
       "740  0.16  0.11  0.62  1.00  1.00  1.00  1.00\n",
       "745  0.08  0.09  0.65  0.99  1.00  1.00  1.00\n",
       "\n",
       "[149 rows x 7 columns]"
      ]
     },
     "execution_count": 57,
     "metadata": {},
     "output_type": "execute_result"
    }
   ],
   "source": [
    "# Your code here\n",
    "import pandas as pd\n",
    "df= pd.DataFrame(effct_smplsze_pwr_dico)\n",
    "df"
   ]
  },
  {
   "cell_type": "code",
   "execution_count": 58,
   "metadata": {},
   "outputs": [
    {
     "data": {
      "text/html": [
       "<div>\n",
       "<style scoped>\n",
       "    .dataframe tbody tr th:only-of-type {\n",
       "        vertical-align: middle;\n",
       "    }\n",
       "\n",
       "    .dataframe tbody tr th {\n",
       "        vertical-align: top;\n",
       "    }\n",
       "\n",
       "    .dataframe thead th {\n",
       "        text-align: right;\n",
       "    }\n",
       "</style>\n",
       "<table border=\"1\" class=\"dataframe\">\n",
       "  <thead>\n",
       "    <tr style=\"text-align: right;\">\n",
       "      <th></th>\n",
       "      <th>0.00</th>\n",
       "      <th>0.01</th>\n",
       "      <th>0.10</th>\n",
       "      <th>0.20</th>\n",
       "      <th>0.50</th>\n",
       "      <th>1.00</th>\n",
       "      <th>2.00</th>\n",
       "    </tr>\n",
       "  </thead>\n",
       "  <tbody>\n",
       "    <tr>\n",
       "      <th>count</th>\n",
       "      <td>149.000000</td>\n",
       "      <td>149.000000</td>\n",
       "      <td>149.000000</td>\n",
       "      <td>149.000000</td>\n",
       "      <td>149.000000</td>\n",
       "      <td>149.000000</td>\n",
       "      <td>149.000000</td>\n",
       "    </tr>\n",
       "    <tr>\n",
       "      <th>mean</th>\n",
       "      <td>0.102416</td>\n",
       "      <td>0.104161</td>\n",
       "      <td>0.387181</td>\n",
       "      <td>0.758054</td>\n",
       "      <td>0.961611</td>\n",
       "      <td>0.991812</td>\n",
       "      <td>0.999060</td>\n",
       "    </tr>\n",
       "    <tr>\n",
       "      <th>std</th>\n",
       "      <td>0.031033</td>\n",
       "      <td>0.029571</td>\n",
       "      <td>0.159213</td>\n",
       "      <td>0.252741</td>\n",
       "      <td>0.127370</td>\n",
       "      <td>0.058795</td>\n",
       "      <td>0.011469</td>\n",
       "    </tr>\n",
       "    <tr>\n",
       "      <th>min</th>\n",
       "      <td>0.030000</td>\n",
       "      <td>0.040000</td>\n",
       "      <td>0.070000</td>\n",
       "      <td>0.130000</td>\n",
       "      <td>0.280000</td>\n",
       "      <td>0.380000</td>\n",
       "      <td>0.860000</td>\n",
       "    </tr>\n",
       "    <tr>\n",
       "      <th>25%</th>\n",
       "      <td>0.080000</td>\n",
       "      <td>0.080000</td>\n",
       "      <td>0.250000</td>\n",
       "      <td>0.610000</td>\n",
       "      <td>1.000000</td>\n",
       "      <td>1.000000</td>\n",
       "      <td>1.000000</td>\n",
       "    </tr>\n",
       "    <tr>\n",
       "      <th>50%</th>\n",
       "      <td>0.100000</td>\n",
       "      <td>0.110000</td>\n",
       "      <td>0.390000</td>\n",
       "      <td>0.870000</td>\n",
       "      <td>1.000000</td>\n",
       "      <td>1.000000</td>\n",
       "      <td>1.000000</td>\n",
       "    </tr>\n",
       "    <tr>\n",
       "      <th>75%</th>\n",
       "      <td>0.120000</td>\n",
       "      <td>0.130000</td>\n",
       "      <td>0.520000</td>\n",
       "      <td>0.960000</td>\n",
       "      <td>1.000000</td>\n",
       "      <td>1.000000</td>\n",
       "      <td>1.000000</td>\n",
       "    </tr>\n",
       "    <tr>\n",
       "      <th>max</th>\n",
       "      <td>0.180000</td>\n",
       "      <td>0.180000</td>\n",
       "      <td>0.670000</td>\n",
       "      <td>1.000000</td>\n",
       "      <td>1.000000</td>\n",
       "      <td>1.000000</td>\n",
       "      <td>1.000000</td>\n",
       "    </tr>\n",
       "  </tbody>\n",
       "</table>\n",
       "</div>"
      ],
      "text/plain": [
       "             0.00        0.01        0.10        0.20        0.50        1.00  \\\n",
       "count  149.000000  149.000000  149.000000  149.000000  149.000000  149.000000   \n",
       "mean     0.102416    0.104161    0.387181    0.758054    0.961611    0.991812   \n",
       "std      0.031033    0.029571    0.159213    0.252741    0.127370    0.058795   \n",
       "min      0.030000    0.040000    0.070000    0.130000    0.280000    0.380000   \n",
       "25%      0.080000    0.080000    0.250000    0.610000    1.000000    1.000000   \n",
       "50%      0.100000    0.110000    0.390000    0.870000    1.000000    1.000000   \n",
       "75%      0.120000    0.130000    0.520000    0.960000    1.000000    1.000000   \n",
       "max      0.180000    0.180000    0.670000    1.000000    1.000000    1.000000   \n",
       "\n",
       "             2.00  \n",
       "count  149.000000  \n",
       "mean     0.999060  \n",
       "std      0.011469  \n",
       "min      0.860000  \n",
       "25%      1.000000  \n",
       "50%      1.000000  \n",
       "75%      1.000000  \n",
       "max      1.000000  "
      ]
     },
     "execution_count": 58,
     "metadata": {},
     "output_type": "execute_result"
    }
   ],
   "source": [
    "df.describe()"
   ]
  },
  {
   "cell_type": "code",
   "execution_count": 61,
   "metadata": {},
   "outputs": [
    {
     "data": {
      "text/plain": [
       "(Float64Index([0.0, 0.01, 0.1, 0.2, 0.5, 1.0, 2.0], dtype='float64'),\n",
       " Int64Index([  5,  10,  15,  20,  25,  30,  35,  40,  45,  50,\n",
       "             ...\n",
       "             700, 705, 710, 715, 720, 725, 730, 735, 740, 745],\n",
       "            dtype='int64', length=149))"
      ]
     },
     "execution_count": 61,
     "metadata": {},
     "output_type": "execute_result"
    }
   ],
   "source": [
    "df.columns, df.index"
   ]
  },
  {
   "cell_type": "code",
   "execution_count": 68,
   "metadata": {},
   "outputs": [
    {
     "data": {
      "image/png": "[encoded data removed]",
      "text/plain": [
       "<Figure size 720x576 with 1 Axes>"
      ]
     },
     "metadata": {
      "needs_background": "light"
     },
     "output_type": "display_data"
    }
   ],
   "source": [
    "import matplotlib.pyplot as plt\n",
    "df.plot(figsize=(10,8))\n",
    "plt.legend();"
   ]
  },
  {
   "cell_type": "markdown",
   "metadata": {},
   "source": [
    "As you can see, it's also typically incredibly difficult (if not impossible) to accurately detect effect sizes below 0.1!"
   ]
  },
  {
   "cell_type": "markdown",
   "metadata": {},
   "source": [
    "## Summary\n",
    "\n",
    "This lesson summarizes and further builds upon the ideas that we saw in the previous labs. We learned how p-value can be described as a function of effect size and for a given effect size, the p-value may get lower if we increase the sample size considerably. We also saw how p-value alone can not be used in order to identify some results as truly significant, as this can be achieved when there is not a significant effect size. "
   ]
  }
 ],
 "metadata": {
  "kernelspec": {
   "display_name": "Python 3",
   "language": "python",
   "name": "python3"
  },
  "language_info": {
   "codemirror_mode": {
    "name": "ipython",
    "version": 3
   },
   "file_extension": ".py",
   "mimetype": "text/x-python",
   "name": "python",
   "nbconvert_exporter": "python",
   "pygments_lexer": "ipython3",
   "version": "3.6.9"
  },
  "toc": {
   "base_numbering": 1,
   "nav_menu": {},
   "number_sections": true,
   "sideBar": true,
   "skip_h1_title": false,
   "title_cell": "Table of Contents",
   "title_sidebar": "Contents",
   "toc_cell": false,
   "toc_position": {},
   "toc_section_display": true,
   "toc_window_display": false
  }
 },
 "nbformat": 4,
 "nbformat_minor": 2
}
